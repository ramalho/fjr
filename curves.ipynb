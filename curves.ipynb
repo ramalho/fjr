{
 "cells": [
  {
   "cell_type": "code",
   "execution_count": 1,
   "id": "29289a8d-c864-464d-94b5-b0bdab5c36d7",
   "metadata": {
    "scrolled": true
   },
   "outputs": [
    {
     "data": {
      "text/html": [
       "\n",
       "      <svg width=\"936\" height=\"936\">\n",
       "        <rect width=\"100%\" height=\"100%\" fill=\"#eee\"/>\n",
       "        <line x1=\"66.88\" y1=\"802.56\" x2=\"119.28\" y2=\"802.56\" stroke-linecap=\"round\" style=\"stroke:#663399;stroke-width:2\"/><line x1=\"119.28\" y1=\"802.56\" x2=\"118.595\" y2=\"793.854\" stroke-linecap=\"round\" style=\"stroke:#663399;stroke-width:2\"/><line x1=\"118.595\" y1=\"793.854\" x2=\"119.965\" y2=\"811.267\" stroke-linecap=\"round\" style=\"stroke:#663399;stroke-width:2\"/><line x1=\"119.965\" y1=\"811.267\" x2=\"119.28\" y2=\"802.561\" stroke-linecap=\"round\" style=\"stroke:#663399;stroke-width:2\"/><line x1=\"119.28\" y1=\"802.561\" x2=\"222.79\" y2=\"786.167\" stroke-linecap=\"round\" style=\"stroke:#663399;stroke-width:2\"/><line x1=\"222.79\" y1=\"786.167\" x2=\"220.751\" y2=\"777.675\" stroke-linecap=\"round\" style=\"stroke:#663399;stroke-width:2\"/><line x1=\"220.751\" y1=\"777.675\" x2=\"224.829\" y2=\"794.659\" stroke-linecap=\"round\" style=\"stroke:#663399;stroke-width:2\"/><line x1=\"224.829\" y1=\"794.659\" x2=\"222.79\" y2=\"786.167\" stroke-linecap=\"round\" style=\"stroke:#663399;stroke-width:2\"/><line x1=\"222.79\" y1=\"786.167\" x2=\"322.461\" y2=\"753.782\" stroke-linecap=\"round\" style=\"stroke:#663399;stroke-width:2\"/><line x1=\"322.461\" y1=\"753.782\" x2=\"319.119\" y2=\"745.713\" stroke-linecap=\"round\" style=\"stroke:#663399;stroke-width:2\"/><line x1=\"319.119\" y1=\"745.713\" x2=\"325.803\" y2=\"761.85\" stroke-linecap=\"round\" style=\"stroke:#663399;stroke-width:2\"/><line x1=\"325.803\" y1=\"761.85\" x2=\"322.461\" y2=\"753.781\" stroke-linecap=\"round\" style=\"stroke:#663399;stroke-width:2\"/><line x1=\"322.461\" y1=\"753.781\" x2=\"415.838\" y2=\"706.203\" stroke-linecap=\"round\" style=\"stroke:#663399;stroke-width:2\"/><line x1=\"415.838\" y1=\"706.203\" x2=\"411.275\" y2=\"698.757\" stroke-linecap=\"round\" style=\"stroke:#663399;stroke-width:2\"/><line x1=\"411.275\" y1=\"698.757\" x2=\"420.401\" y2=\"713.65\" stroke-linecap=\"round\" style=\"stroke:#663399;stroke-width:2\"/><line x1=\"420.401\" y1=\"713.65\" x2=\"415.838\" y2=\"706.204\" stroke-linecap=\"round\" style=\"stroke:#663399;stroke-width:2\"/><line x1=\"415.838\" y1=\"706.204\" x2=\"500.623\" y2=\"644.604\" stroke-linecap=\"round\" style=\"stroke:#663399;stroke-width:2\"/><line x1=\"500.623\" y1=\"644.604\" x2=\"494.951\" y2=\"637.963\" stroke-linecap=\"round\" style=\"stroke:#663399;stroke-width:2\"/><line x1=\"494.951\" y1=\"637.963\" x2=\"506.295\" y2=\"651.245\" stroke-linecap=\"round\" style=\"stroke:#663399;stroke-width:2\"/><line x1=\"506.295\" y1=\"651.245\" x2=\"500.623\" y2=\"644.604\" stroke-linecap=\"round\" style=\"stroke:#663399;stroke-width:2\"/><line x1=\"500.623\" y1=\"644.604\" x2=\"574.728\" y2=\"570.499\" stroke-linecap=\"round\" style=\"stroke:#663399;stroke-width:2\"/><line x1=\"574.728\" y1=\"570.499\" x2=\"568.087\" y2=\"564.827\" stroke-linecap=\"round\" style=\"stroke:#663399;stroke-width:2\"/><line x1=\"568.087\" y1=\"564.827\" x2=\"581.369\" y2=\"576.171\" stroke-linecap=\"round\" style=\"stroke:#663399;stroke-width:2\"/><line x1=\"581.369\" y1=\"576.171\" x2=\"574.728\" y2=\"570.499\" stroke-linecap=\"round\" style=\"stroke:#663399;stroke-width:2\"/><line x1=\"574.728\" y1=\"570.499\" x2=\"1047.641\" y2=\"97.586\" stroke-linecap=\"round\" style=\"stroke:cyan;stroke-width:2\"/><line x1=\"1047.641\" y1=\"97.586\" x2=\"101.815\" y2=\"1043.412\" stroke-linecap=\"round\" style=\"stroke:cyan;stroke-width:2\"/><line x1=\"101.815\" y1=\"1043.412\" x2=\"574.728\" y2=\"570.499\" stroke-linecap=\"round\" style=\"stroke:cyan;stroke-width:2\"/><line x1=\"574.728\" y1=\"570.499\" x2=\"636.328\" y2=\"485.714\" stroke-linecap=\"round\" style=\"stroke:black;stroke-width:2\"/><line x1=\"636.328\" y1=\"485.714\" x2=\"628.882\" y2=\"481.151\" stroke-linecap=\"round\" style=\"stroke:black;stroke-width:2\"/><line x1=\"628.882\" y1=\"481.151\" x2=\"643.775\" y2=\"490.277\" stroke-linecap=\"round\" style=\"stroke:black;stroke-width:2\"/><line x1=\"643.775\" y1=\"490.277\" x2=\"636.329\" y2=\"485.714\" stroke-linecap=\"round\" style=\"stroke:black;stroke-width:2\"/><line x1=\"636.329\" y1=\"485.714\" x2=\"683.907\" y2=\"392.337\" stroke-linecap=\"round\" style=\"stroke:black;stroke-width:2\"/><line x1=\"683.907\" y1=\"392.337\" x2=\"675.838\" y2=\"388.995\" stroke-linecap=\"round\" style=\"stroke:black;stroke-width:2\"/><line x1=\"675.838\" y1=\"388.995\" x2=\"691.975\" y2=\"395.679\" stroke-linecap=\"round\" style=\"stroke:black;stroke-width:2\"/><line x1=\"691.975\" y1=\"395.679\" x2=\"683.906\" y2=\"392.337\" stroke-linecap=\"round\" style=\"stroke:black;stroke-width:2\"/><line x1=\"683.906\" y1=\"392.337\" x2=\"716.291\" y2=\"292.666\" stroke-linecap=\"round\" style=\"stroke:black;stroke-width:2\"/><line x1=\"716.291\" y1=\"292.666\" x2=\"707.799\" y2=\"290.627\" stroke-linecap=\"round\" style=\"stroke:black;stroke-width:2\"/><line x1=\"707.799\" y1=\"290.627\" x2=\"724.783\" y2=\"294.705\" stroke-linecap=\"round\" style=\"stroke:black;stroke-width:2\"/><line x1=\"724.783\" y1=\"294.705\" x2=\"716.291\" y2=\"292.666\" stroke-linecap=\"round\" style=\"stroke:black;stroke-width:2\"/><line x1=\"716.291\" y1=\"292.666\" x2=\"732.685\" y2=\"189.156\" stroke-linecap=\"round\" style=\"stroke:black;stroke-width:2\"/><line x1=\"732.685\" y1=\"189.156\" x2=\"723.979\" y2=\"188.471\" stroke-linecap=\"round\" style=\"stroke:black;stroke-width:2\"/><line x1=\"723.979\" y1=\"188.471\" x2=\"741.392\" y2=\"189.841\" stroke-linecap=\"round\" style=\"stroke:black;stroke-width:2\"/><line x1=\"741.392\" y1=\"189.841\" x2=\"732.686\" y2=\"189.156\" stroke-linecap=\"round\" style=\"stroke:black;stroke-width:2\"/><line x1=\"732.686\" y1=\"189.156\" x2=\"732.686\" y2=\"136.756\" stroke-linecap=\"round\" style=\"stroke:black;stroke-width:2\"/><line x1=\"732.686\" y1=\"136.756\" x2=\"732.686\" y2=\"805.556\" stroke-linecap=\"round\" style=\"stroke:red;stroke-width:2\"/><line x1=\"732.686\" y1=\"805.556\" x2=\"63.886\" y2=\"805.556\" stroke-linecap=\"round\" style=\"stroke:red;stroke-width:2\"/><line x1=\"63.886\" y1=\"805.556\" x2=\"338.094\" y2=\"805.556\" stroke-linecap=\"round\" style=\"stroke:green;stroke-width:2\"/><line x1=\"338.094\" y1=\"805.556\" x2=\"734.074\" y2=\"409.576\" stroke-linecap=\"round\" style=\"stroke:green;stroke-width:2\"/>\n",
       "        \n",
       "      <g visibility=\"hidden\" transform=\"rotate(225.0,734.074,409.576) translate(734.074, 409.576)\">\n",
       "        <circle stroke=\"gray\" stroke-width=\"2\" fill=\"transparent\" r=\"5.5\" cx=\"0\" cy=\"0\"/>\n",
       "        <polygon points=\"0,12 2,9 -2,9\" style=\"fill:gray;stroke:gray;stroke-width:2\"/>\n",
       "      </g>\n",
       "    \n",
       "      </svg>\n",
       "    "
      ],
      "text/plain": [
       "<IPython.core.display.HTML object>"
      ]
     },
     "metadata": {},
     "output_type": "display_data"
    }
   ],
   "source": [
    "from Turtle import *\n",
    "\n",
    "NS = 10  # number of segments\n",
    "VA = 90 / NS  # vertex angle\n",
    "\n",
    "SCALE = 8\n",
    "LS = 13.1 * SCALE  # length of segment\n",
    "RADIUS = 83.6 * SCALE\n",
    "CANVAS_SIDE = int(RADIUS * 1.4)\n",
    "\n",
    "\n",
    "def marker():\n",
    "    lt(90+VA/2)\n",
    "    fd(LS/12)\n",
    "    lt(180)\n",
    "    fd(LS/6)\n",
    "    lt(180)\n",
    "    fd(LS/12)\n",
    "    rt(90+VA/2)\n",
    "\n",
    "\n",
    "make_turtle(13, CANVAS_SIDE, CANVAS_SIDE)\n",
    "bgcolor('#EEE')\n",
    "jumpto(RADIUS / 10, RADIUS * 1.2)\n",
    "\n",
    "# first half-segment\n",
    "fd(LS/2)\n",
    "marker()\n",
    "\n",
    "# curve segments\n",
    "for s in range(NS-1):\n",
    "    lt(VA)\n",
    "    fd(LS)\n",
    "    marker()\n",
    "    if s == 4: # suport line\n",
    "        pencolor('cyan')\n",
    "        fd(RADIUS)\n",
    "        back(RADIUS*2)\n",
    "        fd(RADIUS)\n",
    "        pencolor('black')\n",
    "        \n",
    "    \n",
    "# last half-segment\n",
    "pencolor('black')\n",
    "lt(VA)\n",
    "fd(LS/2)\n",
    "\n",
    "# wall support\n",
    "pencolor('red')\n",
    "back(RADIUS)\n",
    "lt(90)\n",
    "fd(RADIUS)\n",
    "\n",
    "# support line 2\n",
    "pencolor('green')\n",
    "lt(180)\n",
    "fd(RADIUS*.41)\n",
    "lt(45)\n",
    "fd(70*SCALE)\n",
    "\n",
    "hideturtle()"
   ]
  },
  {
   "cell_type": "code",
   "execution_count": 2,
   "id": "acbf606a-22fe-4d95-ba77-64c6a433cb1b",
   "metadata": {},
   "outputs": [
    {
     "name": "stdout",
     "output_type": "stream",
     "text": [
      "83.6 34.275999999999996 49.324\n"
     ]
    }
   ],
   "source": [
    "print(RADIUS/SCALE, RADIUS*.41/SCALE, RADIUS/SCALE-RADIUS*.41/SCALE)"
   ]
  },
  {
   "cell_type": "code",
   "execution_count": 3,
   "id": "af800c2c-db59-4e2d-b462-abcee542e57c",
   "metadata": {},
   "outputs": [
    {
     "data": {
      "text/plain": [
       "69.75466975049054"
      ]
     },
     "execution_count": 3,
     "metadata": {},
     "output_type": "execute_result"
    }
   ],
   "source": [
    "from math import sqrt\n",
    "\n",
    "suport_line_cathetus = RADIUS/SCALE-RADIUS*.41/SCALE\n",
    "\n",
    "sqrt(suport_line_cathetus*suport_line_cathetus*2)"
   ]
  },
  {
   "cell_type": "code",
   "execution_count": null,
   "id": "9c448ced-da0d-4845-8bdf-f375c32eade8",
   "metadata": {},
   "outputs": [],
   "source": []
  }
 ],
 "metadata": {
  "kernelspec": {
   "display_name": "Python 3 (ipykernel)",
   "language": "python",
   "name": "python3"
  },
  "language_info": {
   "codemirror_mode": {
    "name": "ipython",
    "version": 3
   },
   "file_extension": ".py",
   "mimetype": "text/x-python",
   "name": "python",
   "nbconvert_exporter": "python",
   "pygments_lexer": "ipython3",
   "version": "3.12.0"
  }
 },
 "nbformat": 4,
 "nbformat_minor": 5
}
