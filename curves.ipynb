{
 "cells": [
  {
   "cell_type": "code",
   "execution_count": 1,
   "id": "29289a8d-c864-464d-94b5-b0bdab5c36d7",
   "metadata": {
    "scrolled": true
   },
   "outputs": [
    {
     "data": {
      "text/html": [
       "\n",
       "      <svg width=\"595\" height=\"595\">\n",
       "        <rect width=\"100%\" height=\"100%\" fill=\"#eee\"/>\n",
       "        <line x1=\"42.5\" y1=\"510.0\" x2=\"78.75\" y2=\"510.0\" stroke-linecap=\"round\" style=\"stroke:#663399;stroke-width:2\"/><line x1=\"78.75\" y1=\"510.0\" x2=\"78.276\" y2=\"503.977\" stroke-linecap=\"round\" style=\"stroke:#663399;stroke-width:2\"/><line x1=\"78.276\" y1=\"503.977\" x2=\"79.224\" y2=\"516.023\" stroke-linecap=\"round\" style=\"stroke:#663399;stroke-width:2\"/><line x1=\"79.224\" y1=\"516.023\" x2=\"78.75\" y2=\"510.0\" stroke-linecap=\"round\" style=\"stroke:#663399;stroke-width:2\"/><line x1=\"78.75\" y1=\"510.0\" x2=\"150.357\" y2=\"498.659\" stroke-linecap=\"round\" style=\"stroke:#663399;stroke-width:2\"/><line x1=\"150.357\" y1=\"498.659\" x2=\"148.947\" y2=\"492.784\" stroke-linecap=\"round\" style=\"stroke:#663399;stroke-width:2\"/><line x1=\"148.947\" y1=\"492.784\" x2=\"151.768\" y2=\"504.533\" stroke-linecap=\"round\" style=\"stroke:#663399;stroke-width:2\"/><line x1=\"151.768\" y1=\"504.533\" x2=\"150.358\" y2=\"498.658\" stroke-linecap=\"round\" style=\"stroke:#663399;stroke-width:2\"/><line x1=\"150.358\" y1=\"498.658\" x2=\"219.31\" y2=\"476.254\" stroke-linecap=\"round\" style=\"stroke:#663399;stroke-width:2\"/><line x1=\"219.31\" y1=\"476.254\" x2=\"216.998\" y2=\"470.672\" stroke-linecap=\"round\" style=\"stroke:#663399;stroke-width:2\"/><line x1=\"216.998\" y1=\"470.672\" x2=\"221.622\" y2=\"481.836\" stroke-linecap=\"round\" style=\"stroke:#663399;stroke-width:2\"/><line x1=\"221.622\" y1=\"481.836\" x2=\"219.31\" y2=\"476.254\" stroke-linecap=\"round\" style=\"stroke:#663399;stroke-width:2\"/><line x1=\"219.31\" y1=\"476.254\" x2=\"283.908\" y2=\"443.34\" stroke-linecap=\"round\" style=\"stroke:#663399;stroke-width:2\"/><line x1=\"283.908\" y1=\"443.34\" x2=\"280.751\" y2=\"438.189\" stroke-linecap=\"round\" style=\"stroke:#663399;stroke-width:2\"/><line x1=\"280.751\" y1=\"438.189\" x2=\"287.065\" y2=\"448.492\" stroke-linecap=\"round\" style=\"stroke:#663399;stroke-width:2\"/><line x1=\"287.065\" y1=\"448.492\" x2=\"283.908\" y2=\"443.341\" stroke-linecap=\"round\" style=\"stroke:#663399;stroke-width:2\"/><line x1=\"283.908\" y1=\"443.341\" x2=\"342.562\" y2=\"400.727\" stroke-linecap=\"round\" style=\"stroke:#663399;stroke-width:2\"/><line x1=\"342.562\" y1=\"400.727\" x2=\"338.638\" y2=\"396.133\" stroke-linecap=\"round\" style=\"stroke:#663399;stroke-width:2\"/><line x1=\"338.638\" y1=\"396.133\" x2=\"346.485\" y2=\"405.321\" stroke-linecap=\"round\" style=\"stroke:#663399;stroke-width:2\"/><line x1=\"346.485\" y1=\"405.321\" x2=\"342.561\" y2=\"400.727\" stroke-linecap=\"round\" style=\"stroke:#663399;stroke-width:2\"/><line x1=\"342.561\" y1=\"400.727\" x2=\"393.826\" y2=\"349.462\" stroke-linecap=\"round\" style=\"stroke:#663399;stroke-width:2\"/><line x1=\"393.826\" y1=\"349.462\" x2=\"389.232\" y2=\"345.538\" stroke-linecap=\"round\" style=\"stroke:#663399;stroke-width:2\"/><line x1=\"389.232\" y1=\"345.538\" x2=\"398.42\" y2=\"353.385\" stroke-linecap=\"round\" style=\"stroke:#663399;stroke-width:2\"/><line x1=\"398.42\" y1=\"353.385\" x2=\"393.826\" y2=\"349.461\" stroke-linecap=\"round\" style=\"stroke:#663399;stroke-width:2\"/><line x1=\"393.826\" y1=\"349.461\" x2=\"436.44\" y2=\"290.807\" stroke-linecap=\"round\" style=\"stroke:#663399;stroke-width:2\"/><line x1=\"436.44\" y1=\"290.807\" x2=\"431.289\" y2=\"287.65\" stroke-linecap=\"round\" style=\"stroke:#663399;stroke-width:2\"/><line x1=\"431.289\" y1=\"287.65\" x2=\"441.592\" y2=\"293.964\" stroke-linecap=\"round\" style=\"stroke:#663399;stroke-width:2\"/><line x1=\"441.592\" y1=\"293.964\" x2=\"436.441\" y2=\"290.807\" stroke-linecap=\"round\" style=\"stroke:#663399;stroke-width:2\"/><line x1=\"436.441\" y1=\"290.807\" x2=\"469.355\" y2=\"226.209\" stroke-linecap=\"round\" style=\"stroke:#663399;stroke-width:2\"/><line x1=\"469.355\" y1=\"226.209\" x2=\"463.773\" y2=\"223.897\" stroke-linecap=\"round\" style=\"stroke:#663399;stroke-width:2\"/><line x1=\"463.773\" y1=\"223.897\" x2=\"474.937\" y2=\"228.521\" stroke-linecap=\"round\" style=\"stroke:#663399;stroke-width:2\"/><line x1=\"474.937\" y1=\"228.521\" x2=\"469.355\" y2=\"226.209\" stroke-linecap=\"round\" style=\"stroke:#663399;stroke-width:2\"/><line x1=\"469.355\" y1=\"226.209\" x2=\"491.759\" y2=\"157.257\" stroke-linecap=\"round\" style=\"stroke:#663399;stroke-width:2\"/><line x1=\"491.759\" y1=\"157.257\" x2=\"485.884\" y2=\"155.847\" stroke-linecap=\"round\" style=\"stroke:#663399;stroke-width:2\"/><line x1=\"485.884\" y1=\"155.847\" x2=\"497.633\" y2=\"158.668\" stroke-linecap=\"round\" style=\"stroke:#663399;stroke-width:2\"/><line x1=\"497.633\" y1=\"158.668\" x2=\"491.758\" y2=\"157.258\" stroke-linecap=\"round\" style=\"stroke:#663399;stroke-width:2\"/><line x1=\"491.758\" y1=\"157.258\" x2=\"503.099\" y2=\"85.651\" stroke-linecap=\"round\" style=\"stroke:#663399;stroke-width:2\"/><line x1=\"503.099\" y1=\"85.651\" x2=\"497.076\" y2=\"85.177\" stroke-linecap=\"round\" style=\"stroke:#663399;stroke-width:2\"/><line x1=\"497.076\" y1=\"85.177\" x2=\"509.122\" y2=\"86.125\" stroke-linecap=\"round\" style=\"stroke:#663399;stroke-width:2\"/><line x1=\"509.122\" y1=\"86.125\" x2=\"503.099\" y2=\"85.651\" stroke-linecap=\"round\" style=\"stroke:#663399;stroke-width:2\"/><line x1=\"503.099\" y1=\"85.651\" x2=\"503.099\" y2=\"49.401\" stroke-linecap=\"round\" style=\"stroke:#663399;stroke-width:2\"/><line x1=\"503.099\" y1=\"85.651\" x2=\"503.099\" y2=\"510.651\" stroke-linecap=\"round\" style=\"stroke:cyan;stroke-width:2\"/><line x1=\"503.099\" y1=\"510.651\" x2=\"78.099\" y2=\"510.651\" stroke-linecap=\"round\" style=\"stroke:cyan;stroke-width:2\"/>\n",
       "        \n",
       "      <g visibility=\"hidden\" transform=\"rotate(90.0,78.099,510.651) translate(78.099, 510.651)\">\n",
       "        <circle stroke=\"gray\" stroke-width=\"2\" fill=\"transparent\" r=\"5.5\" cx=\"0\" cy=\"0\"/>\n",
       "        <polygon points=\"0,12 2,9 -2,9\" style=\"fill:gray;stroke:gray;stroke-width:2\"/>\n",
       "      </g>\n",
       "    \n",
       "      </svg>\n",
       "    "
      ],
      "text/plain": [
       "<IPython.core.display.HTML object>"
      ]
     },
     "metadata": {},
     "output_type": "display_data"
    }
   ],
   "source": [
    "from Turtle import *\n",
    "\n",
    "NS = 10  # number of segments\n",
    "VA = 90 / NS  # vertex angle\n",
    "\n",
    "SCALE = 5\n",
    "LS = 14.5 * SCALE  # length of segment\n",
    "RADIUS = 85 * SCALE\n",
    "CANVAS_SIDE = int(RADIUS * 1.4)\n",
    "\n",
    "\n",
    "def marker():\n",
    "    lt(90+VA/2)\n",
    "    fd(LS/12)\n",
    "    lt(180)\n",
    "    fd(LS/6)\n",
    "    lt(180)\n",
    "    fd(LS/12)\n",
    "    rt(90+VA/2)\n",
    "\n",
    "\n",
    "make_turtle(13, CANVAS_SIDE, CANVAS_SIDE)\n",
    "bgcolor('#EEE')\n",
    "jumpto(RADIUS / 10, RADIUS * 1.2)\n",
    "\n",
    "# first half-segment\n",
    "fd(LS/2)\n",
    "marker()\n",
    "for _ in range(NS-1):\n",
    "    lt(VA)\n",
    "    fd(LS)\n",
    "    marker()\n",
    "    \n",
    "# last half-segment\n",
    "lt(VA)\n",
    "fd(LS/2)\n",
    "\n",
    "penup()\n",
    "back(LS/2)\n",
    "pencolor('cyan')\n",
    "pendown()\n",
    "back(RADIUS)\n",
    "lt(90)\n",
    "fd(RADIUS)\n",
    "hideturtle()"
   ]
  },
  {
   "cell_type": "code",
   "execution_count": null,
   "id": "acbf606a-22fe-4d95-ba77-64c6a433cb1b",
   "metadata": {},
   "outputs": [],
   "source": []
  },
  {
   "cell_type": "code",
   "execution_count": null,
   "id": "af800c2c-db59-4e2d-b462-abcee542e57c",
   "metadata": {},
   "outputs": [],
   "source": []
  },
  {
   "cell_type": "code",
   "execution_count": null,
   "id": "9c448ced-da0d-4845-8bdf-f375c32eade8",
   "metadata": {},
   "outputs": [],
   "source": []
  }
 ],
 "metadata": {
  "kernelspec": {
   "display_name": "Python 3 (ipykernel)",
   "language": "python",
   "name": "python3"
  },
  "language_info": {
   "codemirror_mode": {
    "name": "ipython",
    "version": 3
   },
   "file_extension": ".py",
   "mimetype": "text/x-python",
   "name": "python",
   "nbconvert_exporter": "python",
   "pygments_lexer": "ipython3",
   "version": "3.11.6"
  }
 },
 "nbformat": 4,
 "nbformat_minor": 5
}
